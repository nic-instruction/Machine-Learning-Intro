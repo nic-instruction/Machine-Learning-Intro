{
  "nbformat": 4,
  "nbformat_minor": 0,
  "metadata": {
    "colab": {
      "name": "Intro To Machine Learning.ipynb",
      "private_outputs": true,
      "provenance": [],
      "collapsed_sections": [],
      "include_colab_link": true
    },
    "kernelspec": {
      "name": "python3",
      "display_name": "Python 3"
    }
  },
  "cells": [
    {
      "cell_type": "markdown",
      "metadata": {
        "id": "view-in-github",
        "colab_type": "text"
      },
      "source": [
        "<a href=\"https://colab.research.google.com/github/nic-instruction/Machine-Learning-Intro/blob/main/Intro_To_Machine_Learning.ipynb\" target=\"_parent\"><img src=\"https://colab.research.google.com/assets/colab-badge.svg\" alt=\"Open In Colab\"/></a>"
      ]
    },
    {
      "cell_type": "markdown",
      "metadata": {
        "id": "2BSsS2r4dNnM"
      },
      "source": [
        "# Resources\n",
        "* To quickly familiarize you with the concepts of machine learning, get you to build your first model, and give you access to competitions, other ML models, python-for-data-science tutorials, really cool data sets, and more we'll be doing the Kagle ML intro: https://www.kaggle.com/learn/intro-to-machine-learning (Kagle is free and has its own Jupyter Notebook environment, also hosted by Google, much like Colab)\n",
        "\n",
        "* For in-depth understanding of the process, which will allow you to really have control of the process, learn different algorithms, and understanding some of the math behind the algorithms, we'll be using this book, written by a ML professional at Google: https://learning.oreilly.com/library/view/hands-on-machine-learning/9781492032632/\n",
        "\n",
        "* The acompanying GitHub account is here: https://github.com/ageron/handson-ml2, please note that some of the Colab Jupyter Notebooks for the chapters have some issues becuase the datasets they refer to have moved.  You will also notice that your Kaggle tutorial uses a very similar first example to the one this book uses, but very simplified. (Because this book is really good and everybody poaches off of it)\n",
        "\n",
        "* When we get into Gradle deployment, I'll show you how to use Java for machine learning as well.\n"
      ]
    },
    {
      "cell_type": "markdown",
      "metadata": {
        "id": "64HVqJY3fdv2"
      },
      "source": [
        "# How to get an ML Job\n",
        "\n",
        "## How to get an ML Job the Data Science Way\n",
        "\n",
        "\n",
        "Because ML is an emerging role, not many IT specialists have direct experience with it. That’s why most machine learning engineer job descriptions today seek out data scientists with a programming background.\n",
        "The reverse can also be true: Coders and programmers with solid data skills can transition to become machine learning engineers, though they may need experience in a data role beforehand.\n",
        "A job description for machine learning engineers typically includes the following:\n",
        "* Advanced degree in computer science, math, statistics or a related discipline\n",
        "* Extensive data modeling and data architecture skills\n",
        "* Programming experience in Python, R or Java\n",
        "* Background in machine learning frameworks such as TensorFlow or Keras\n",
        "* Knowledge of Hadoop or another distributed computing systems\n",
        "* Experience working in an Agile environment\n",
        "* Advanced math skills (linear algebra, Bayesian statistics, group theory)\n",
        "* Strong written and verbal communications\n",
        "* Reference: https://www.roberthalf.com/blog/the-future-of-work/how-to-become-a-machine-learning-engineer\n",
        "\n",
        "## Essential Skills and Concepts You Will Need to get an ML Job the Programming Way\n",
        "\n",
        "There is a coding track for this as well, which involves learning some data science, and learning the algorithms, but forgoes the advanced degree and only involves learning the relevent math concepts (many people who work in ML in industry do not understand the math concepts and have simply memorized the behavior of the dominant algorithms, which works for many things, they then escalate 'custom' problems to someone with those math skills)\n",
        "\n",
        "* Reference for the coding track and what follows: personal conversations with ML professionals, ML hiring managers, and the director of applied mathmatics at a highly regarded east coast school who teaches ML as well and manages industry partnerships.\n",
        "\n",
        "## Required Soft Skills\n",
        "I've talked to a couple of hiring managers for ML departments, and they say that the big thing they look for is not whether or not you've memorized the algorithms, but how good you are at requirements gathering and working with customers (who are often other departments in your org) to make a model that answers the question they have, not the question YOU THINK they have (this is an issue for DB design as well).  \n",
        "\n",
        "I'm happy to teach you processes for doing this, since you should probably learn database design as well, check out *Database Design For Mere Mortals*, which has a great 'requirements gathering' section. The ML book linked above, that we'll be using, also has some good resources for this too.  \n",
        "\n",
        "**This is a soft skill, but it is essential to getting hired.  Simply being able to build a model is not enough.**\n",
        "\n",
        "## Required Hard Skills\n",
        "What people want to see is that you can do an end to end project on your own.  You must be able to do the following:\n",
        "* Data scraping (getting data) know how to use: selenium with python, beautiful soup.\n",
        "* Data cleaning (process your data) clean, store, and save data. (know how to deal with missing and currupted data and how to standardize your data)\n",
        "* Databasing and Datawarehousing (how to make a database, if you are interested in big data, knowing how to store GB to TB of data in an accessible and less expensive way)\n",
        "* The algorithms: what they are and when to use them. You will need to be able to produce metrics and run cross-validation, and at a certen level, you will need to understand the math behind the algorithms  in order to do this, but more on that later.  Until you learn the math, when you have a problem that requires that level of math skill, hand it off to someone who knows the math, or get your boss to pay for you to learn the math.  (More on that in the 'Paths Through Industry' section)\n",
        "\n",
        "# Algorithms and Math-Based Tools You Can Memorize\n",
        "*Note: If you understand the math, you can do most algorithms way more simply and elegantly.  Many things come down to leanear regression.*\n",
        "   * Linear Regression, \n",
        "   * Smoothing methods\n",
        "   * Classification: logistic regression\n",
        "   * Linear discriminant analysis\n",
        "   * \"K Nearest Neighbors\" (simplest algorithm ever) look at the k nearest training points and let them vote on what the label should be.\n",
        "\n",
        "   ## Concepts you Must Understand Enough to Leverage, but Will Eventually Need to Study More Math to Fully Utilize\n",
        "   * Neural networks (almost compositions of linear functions)\n",
        "   * Advanced: Support Vector Machines and Kernel Methods (about to get more important because of a paper from the Alan Institute saying that neural networks (anything trained with gradient assent) are essentially equivalent to a specific kind of kernel.\n",
        "\n",
        "*Note: This is a math Kernel not a computer Kernel. It is/means for every data point, you have some comparison function (the Kernel) between a new datapoint x and all the training data and then you take a weighted sum over some measure of similarity between your data and each other datapoint in the training data.  A kernel stores a representation of the data in a rich way.*\n",
        "   * Neural Network: Perceptrons, Deep Networks, CNN's, RNN's\n",
        "   * ARIMA Models for cyclic time series\n",
        "\n",
        "## Unsupervised learning: (Data organization with no labels!)\n",
        "\n",
        "   * *Note: the book talks a bit about unsupervised learning but is mostly teaching you supervised learning.*\n",
        "      * PCA\n",
        "      * Clustering\n",
        "      * Manifold Learning\n",
        "      * Graph theory methods - spectral decomposition\n",
        "\n",
        "## Specific ToolKits You Will Have to Learn For Specific Problems\n",
        "\n",
        "  * Natural Language processing has its own huge toolkit\n",
        "  * Time series processing has its own huge toolkit\n",
        "  * Image processing methods  processing has its own huge toolkit (Amazon has some good, free tutorials on this)\n",
        "  * Audio processing methods  processing has its own huge toolkit\n",
        "* Your book will teach you many of these skills while others can be found elsewhere.  Another great resource is the work of **Jason Brownly**.  He hosts a whole (non-math/intro) machine learning curriculum on his website, which can be found here: https://machinelearningmastery.com/start-here/\n",
        "\n",
        "\n",
        "If you want to become an algorithms engineer, you'll need to know linear algebra and know the math behind all the algorithms.  (You can get these skills later, see 'Paths Through Industry' below)\n",
        "\n",
        "#Paths Through Industry\n",
        "\n",
        "## One Potential Path Through Industry into Machine Learning (Starting as a Programmer)\n",
        "* While working a programming job, do a bunch of ML projects on Kagle.  Engage with the Kagle community and (ideally) win some contests.  Prove over and over again that you can build a project and shepherd it through to completion.  Learn database design and learn the soft skills (requirements gathering, see above) to scope a project for a customer.\n",
        "* Present these skills to the ML group in your org and get to know the team.  If you like them, get them to give you an interview next time there's an open position and attempt to transfer.  If it doesn't work, ask them what skills you need to learn to be on their team, then learn it, and interview again.\n",
        "* If there is no ML group in your org, go to an ML meetup.  Make friends, show off your projects and your skills.  If you can, make useful suggestions to people already in the field (this can be tricky, don't tell them something they already know, because they'll get mad at you, but listen hard, and you can always preface your suggestions with 'I'm sure you've already tried this, but...').  Be humble and helpful.  You want them to see a smart, easy-to-work-with person who may not have all the skills yet, but is just going to eat them up when you're put on an ML team.  Let them know about your Kagle accomplishments, provide links if desired, and that you're looking to shift from programming into ML if they have any positions open.\n",
        "* Once you're on an ML team, do ML!  You will hit a wall at some point where you need to learn the math behind ML.  You have many options for this.  If you've gotten an undergraduate degree during this time, you can ask your manager to send you (make sure the company pays for it) to a part-time Master's level applied mathematics program in machine learning.  If you don't have a degree, there will likely be a master's level certificate program you can enter that will teach you the same content (probably in the same class as the master's degree students) and give you a cert.  There are also a number of places you can learn advanced math online, BUT, it won't link you into a cohort (which, if you do it right, will be people you can follow advancements in math and ML with for the rest of your life and learn new techniques from) and it will probably not be up to date.\n",
        "* Once you've got the math, you have the keys to the kingdom.  Go wild, right wrongs, make new things, work hard, and have a blast doing it!\n",
        "\n",
        "\n",
        "\n",
        "\n",
        "\n"
      ]
    },
    {
      "cell_type": "markdown",
      "metadata": {
        "id": "rKiL2pdWJVGs"
      },
      "source": [
        "# Machine Learning Fails \n",
        "\n",
        "**Read these!  The fails largely occur when trying to determine unethical things (attributing criminality, ability, etc. based on gender or race... which is scientifically unsound) and using bad methods and data to do it, revealing much about the researchers.**\n",
        "\n",
        "\n",
        "* https://syncedreview.com/2021/01/01/2020-in-review-10-ai-failures/\n",
        "* You absolutely need to know who *Timnit Gebru* is.  The research that brought her into the national spotlight, while still finishing her degree: https://news.mit.edu/2018/study-finds-gender-skin-type-bias-artificial-intelligence-systems-0212 that Google aquired her as an ethics researcher, based on this research, and then fired her for doing her job: https://www.technologyreview.com/2020/12/04/1013294/google-ai-ethics-research-paper-forced-out-timnit-gebru/?fbclid=IwAR2yJDtUN9LuGoNm62l02Rty3uXOiMO949U_JTLsw9AN2xd31Yk5pKsKgiw\n",
        "* Read up on the \"GayDar\" study, it has since been debunked as the ML algorithm keying off of fashion and flagging, not, as the researchers supposed, hormones present in LGBTQ people that change jaw lines (why they didn't think to actually test this, is beyond me... but even places like Stanford sometimes do **bad science**). It's also a great way to learn about the pitfalls of machine learning https://www.newyorker.com/news/daily-comment/the-ai-gaydar-study-and-the-real-dangers-of-big-data \n",
        "* There are SO MANY MORE.  Study up on them, so that you can avoid similar pitfalls.  "
      ]
    },
    {
      "cell_type": "markdown",
      "metadata": {
        "id": "H9WS-YKiUAMj"
      },
      "source": [
        "# Credits\n",
        "\n",
        "*This curriculum outline was made by N. Bade in consultation with the other N. Bade.  All of the errors are the responsibility of the first N. Bade, while the specific requirements for working in industry and much of the 'programming track for ML' that does not involve personal consultation with industry professionals, comes from the brilliance of the second N. Bade who should be considered blameless for any errors.*\n",
        "\n",
        "*It should also be noted that the second N. Bade introduced the first N. Bade to all of the ML concepts they know, as they were frantically trying to cram 15 hours of ML learning into 5 hours before attending a conference.  It turned out no one else at the conference had done the work, but they become interested in ML, and thus the ML club was born.  Hopefully it will be a full blown class some day.*"
      ]
    }
  ]
}