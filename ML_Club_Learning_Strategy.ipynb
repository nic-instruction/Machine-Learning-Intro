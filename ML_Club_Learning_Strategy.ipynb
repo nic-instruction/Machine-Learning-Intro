{
  "nbformat": 4,
  "nbformat_minor": 0,
  "metadata": {
    "colab": {
      "name": "ML Club Learning Strategy.ipynb",
      "private_outputs": true,
      "provenance": [],
      "collapsed_sections": [],
      "authorship_tag": "ABX9TyMfMJAcbg8eUJokyvJlNqMC",
      "include_colab_link": true
    },
    "kernelspec": {
      "name": "python3",
      "display_name": "Python 3"
    }
  },
  "cells": [
    {
      "cell_type": "markdown",
      "metadata": {
        "id": "view-in-github",
        "colab_type": "text"
      },
      "source": [
        "<a href=\"https://colab.research.google.com/github/nic-instruction/Machine-Learning-Intro/blob/main/ML_Club_Learning_Strategy.ipynb\" target=\"_parent\"><img src=\"https://colab.research.google.com/assets/colab-badge.svg\" alt=\"Open In Colab\"/></a>"
      ]
    },
    {
      "cell_type": "markdown",
      "metadata": {
        "id": "V09cjROVcAIa"
      },
      "source": [
        "***So, our strategy here is to get you to the point where you can enter competitions, and then learn from the people who win them.  Here’s the deal:***\n",
        "\n",
        "## Finding Accurate Information\n",
        "   * Most of the notebooks shared on Kaggle and on the internet  will be wrong, contain incorrect information, and should not be relied on for accurate information.  Even if you find the same info in 10 places, that doesn’t make it accurate.  This is a new field and there’s a lot of misinformation.  \n",
        "   * The official Kaggle material will be good, and generally all the winners of the contests will be good.\n",
        "   * At least 25% of the good code will be a direct cp/paste job from Jason Brownly’s website.  This is a great resource, it’s also linked in the notes I gave you https://machinelearningmastery.com/start-here/ and you should know his code when you see it, also use this to look up any questions you have.\n",
        "\n",
        "## Tutorials Make it Easy, This is Really Hard\n",
        "* These tutorials start you out with clean datasets and heavily imply that the only problems you will run into will be data not being filled in.  Real world data will be very different.  You’ll have different datatypes, different entry styles, anything that can go wrong, will go wrong, you’re gonna need to learn some data cleaning skills.  Luckily, there’s another tutorial just for that.  See below!\n",
        "* There are also A TON of different algorythms to learn, so take a look at them and what they do.\n",
        "* We haven't even touched deep learning yet, which is where the show really gets started.  That's what the book is about, and that's the thing that is being called 'AI'.\n",
        "* The competitions are a good way to learn this stuff.  Pick one you're interested in and take the tutorials you need to compelte it.\n",
        "\n",
        "## Down the Road\n",
        "* You will hit a barrier at some point, if you do this regularly, where you need to understand how these things actually work.  When that happens, read the book.  The book will not teach you the math, to understand the math, you need to take linear algebra (which, believe me, taking it with some sort of use case is the only way to do it, unless you really love math).\n",
        "* When you hit that barrier, you should also look at the handout I gave you in more depth."
      ]
    },
    {
      "cell_type": "markdown",
      "metadata": {
        "id": "SJ1XyhCKes4X"
      },
      "source": [
        "# Competitions\n",
        "Competitions are a great way to learn.  You'll notice a number of these are marked as 'knowledge' competitions.  That means these are problems that will teach you necessary things.  Two you should know about are the handwritten number dataset and titanic.  These are kind of the 'hello world' problems of Machine Learning.  You should at least be familiar with them.  \n",
        "\n",
        "Many of the datasets in the 'hello world' competitions will be extremely clean.  This is not going to be true of real-world data.  Do not be fooled!  Knowing your data and cleaning your data is extremely important.\n",
        "\n",
        "# Other Kinds of Competitions\n",
        "Sponsored competitions often give cash prizes or swag to winners.  \n",
        "\n",
        "InClass competitions are designed by Data Science professors at various schools, many of them high ranking, and examine a specific problem.  Poking around them is a good way to look at various techniques employed to approach an issue: what worked well, what didn't.\n",
        "\n",
        "You can view all competitions by going to https://www.kaggle.com/competitions\n"
      ]
    },
    {
      "cell_type": "markdown",
      "metadata": {
        "id": "tQ2Swmoub4e5"
      },
      "source": [
        "# Tutorials - Learning the Problem Space\n",
        "\n",
        "As you enter competitions, I recommend you take the following tutorials:\n",
        "   * https://www.kaggle.com/learn/intermediate-machine-learning\n",
        "   * https://www.kaggle.com/learn/intro-to-deep-learning\n",
        "   * https://www.kaggle.com/learn/feature-engineering\n",
        "   * https://www.kaggle.com/alexisbcook/intro-to-automl (goes over all your choices for algorithms.  There's way more out there than decision trees and random forests)\n",
        "   (Deep learning is the one that is analogous to AI)\n",
        "\n",
        "Data manipulation and cleaning:\n",
        "   * https://www.kaggle.com/learn/pandas\n",
        "   * https://www.kaggle.com/learn/data-cleaning\n",
        "   * https://www.kaggle.com/learn/intro-to-sql\n",
        "   * https://www.kaggle.com/learn/advanced-sql\n",
        "\n",
        "\n",
        "For Gaming Fans:\n",
        "https://www.kaggle.com/learn/intro-to-game-ai-and-reinforcement-learning\n",
        "(will need deep learning for this)\n",
        "\n",
        "Learn python:\n",
        "https://www.kaggle.com/learn/python\n",
        "\n",
        "# Deeper Understanding\n",
        "The tutorials above will be excellent crash courses that take a few hours and will give you an idea of the code structure you will need to use to employ some of these tools.  For a deeper understanding of each of these areas, you'll want some external resources.\n",
        "\n",
        "## Deep Learning\n",
        "You can learn about neural nets without linear algebra.  I once had a friend who designed a water system with a series of gates (kind of like dams but they could open and shut) that modeled neural nets.  They were thrilled they could make a river that learned.  This was back when neural nets were academic.  All that to say, there are a lot of techniques for learning about them.  If you want, give me some advanced warning and I can prep a class on them for you.\n",
        "\n",
        "Deep learning, to me, is the interesting problem space here.  It is more than applying statistical models to data.  It's complex, and not well understood yet because it is a very young field.  It only became possible very recently.  If you're interested in really getting into Deep learning do all of the tutorials and background tutorials here:\n",
        "\n",
        "* Remember when I said at least 25% of the code on the internet is a cp/paste job from one site?  This is it! https://machinelearningmastery.com/start-here/#deeplearning\n",
        "\n",
        "* When you're done, read the book: https://learning.oreilly.com/library/view/hands-on-machine-learning/9781492032632/\n",
        "\n",
        "* He also has tutorials on the math behind this stuff.  When you finish studying the two resources above (and doing all the labs plus adding this knowledge to your competition entries) it might be time for the math: \n",
        "\n",
        "   * https://machinelearningmastery.com/why-learn-linear-algebra-for-machine-learning/ (when you need linear algebra, and when you don't)\n",
        "   * https://machinelearningmastery.com/examples-of-linear-algebra-in-machine-learning/ (examples of linear algebra in machine learning)\n",
        "   * https://machinelearningmastery.com/linear-algebra-machine-learning-7-day-mini-course/ (free 7 day course in linear algebra for machine learning)\n",
        "   * https://machinelearningmastery.com/basics-mathematical-notation-machine-learning/ (mathmatical notation)\n",
        "   * https://machinelearningmastery.com/linear-algebra-for-deep-learning/ (references other books, that by this time, you'll want to know about)\n",
        "\n",
        "* If you are employed by someone who is making money off of your machine learning skills or is interested in sponsoring your professional development, this would be a good time to study machine learning at the graduate level.  For those who don't have undergraduate degrees, contact programs you're interested in, and ask about a 'certificate' option."
      ]
    }
  ]
}