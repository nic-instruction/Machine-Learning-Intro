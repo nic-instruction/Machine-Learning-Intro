{
  "nbformat": 4,
  "nbformat_minor": 0,
  "metadata": {
    "colab": {
      "name": "Base Goose.ipynb",
      "private_outputs": true,
      "provenance": [],
      "collapsed_sections": [],
      "authorship_tag": "ABX9TyP0yygadFFIiMi6TX+GfkFC",
      "include_colab_link": true
    },
    "kernelspec": {
      "name": "python3",
      "display_name": "Python 3"
    }
  },
  "cells": [
    {
      "cell_type": "markdown",
      "metadata": {
        "id": "view-in-github",
        "colab_type": "text"
      },
      "source": [
        "<a href=\"https://colab.research.google.com/github/nic-instruction/Machine-Learning-Intro/blob/main/Base_Goose.ipynb\" target=\"_parent\"><img src=\"https://colab.research.google.com/assets/colab-badge.svg\" alt=\"Open In Colab\"/></a>"
      ]
    },
    {
      "cell_type": "markdown",
      "metadata": {
        "id": "pxo09hIxmI8S"
      },
      "source": [
        "# Deep Learning Agent Training\n",
        "\n",
        "### Base Goose:\n",
        "https://www.kaggle.com/c/hungry-geese/overview/rules-of-play\n",
        "\n",
        "This is quite close to the base goose:  https://www.kaggle.com/ihelon/hungry-geese-agents-comparison\n",
        "\n",
        "\n",
        "\n",
        "\n",
        "### Different Geese \n",
        "https://www.kaggle.com/ihelon/hungry-geese-agents-comparison\n",
        "\n",
        "And looking at the agent code vs the other code is very interesting.\n",
        "\n",
        "### Deep Learning Agent Training\n",
        "https://www.kaggle.com/piotrstanczyk/gfootball-train-seed-rl-agent\n",
        "\n",
        "This is for a different agent, but uses a lot of the same techniques we’re seeing used."
      ]
    }
  ]
}