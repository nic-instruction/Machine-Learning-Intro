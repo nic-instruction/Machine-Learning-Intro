{
  "nbformat": 4,
  "nbformat_minor": 0,
  "metadata": {
    "colab": {
      "name": "Base Goose.ipynb",
      "private_outputs": true,
      "provenance": [],
      "collapsed_sections": [],
      "authorship_tag": "ABX9TyPO395jd+OHpZdYeV2Y3G5G",
      "include_colab_link": true
    },
    "kernelspec": {
      "name": "python3",
      "display_name": "Python 3"
    }
  },
  "cells": [
    {
      "cell_type": "markdown",
      "metadata": {
        "id": "view-in-github",
        "colab_type": "text"
      },
      "source": [
        "<a href=\"https://colab.research.google.com/github/nic-instruction/Machine-Learning-Intro/blob/main/Base_Goose.ipynb\" target=\"_parent\"><img src=\"https://colab.research.google.com/assets/colab-badge.svg\" alt=\"Open In Colab\"/></a>"
      ]
    },
    {
      "cell_type": "markdown",
      "metadata": {
        "id": "pxo09hIxmI8S"
      },
      "source": [
        "# Deep Learning Agent Training\n",
        "   * South Goose Baseline that generates video: https://www.kaggle.com/nicolebade/south-goose-baseline\n",
        "   * ### Base Goose:\n",
        "   * https://www.kaggle.com/c/hungry-geese/overview/rules-of-play\n",
        "\n",
        "   * This is quite close to the base goose:  https://www.kaggle.com/ihelon/hungry-geese-agents-comparison\n",
        "\n",
        "\n",
        "\n",
        "\n",
        "* ### Different Geese \n",
        "   * https://www.kaggle.com/ihelon/hungry-geese-agents-comparison\n",
        "\n",
        "\n",
        "* ### Goose that uses Q learning (currently silver)\n",
        "Q learning is not the same as deep learning, but you can actually have Q deep learning, which is a different setup.\n",
        "\n",
        "https://www.kaggle.com/yanamal/approximate-q-learning-baseline\n",
        "\n",
        "\n",
        "\n",
        "* ### Simple Monte Carlo Goose (currently silver)\n",
        "https://www.kaggle.com/johntermaat/hungry-geese-simple-monte-carlo-baseline\n",
        "Also not deep learning, but a simulation, and is very cool.  Here's an interesting looking article on it: https://towardsdatascience.com/how-to-design-monte-carlo-simulation-138e9214910a\n",
        "\n",
        "* ### Renforcement Learning Goose (currently Gold)\n",
        "https://www.kaggle.com/yuricat/smart-geese-trained-by-reinforcement-learning\n",
        "\n",
        "   * Renforcement learning, again, is another form of AI that is not deep learning.  Renforcement learning algorythms learn by doing, whereas deep learning learns by past knowlege and predicts the future.\n",
        "\n",
        "   * Very rough overview of difference between the two: https://bigdata-madesimple.com/what-is-the-difference-between-deep-learning-and-reinforcement-learning/\n",
        "\n",
        "* ### Deep Learning Agent Training\n",
        "   * https://www.kaggle.com/piotrstanczyk/gfootball-train-seed-rl-agent\n",
        "\n",
        "   * This is for a different agent, but a similar scenario and allows you to use deep learning for decision making.  \n",
        "\n",
        "* ### Intro to deep learing\n",
        "   * Before you read the above, look at this so you have a sense of what a neural net is and how deep learning works!\n",
        "\n",
        "   * https://www.kaggle.com/ryanholbrook/a-single-neuron\n"
      ]
    }
  ]
}